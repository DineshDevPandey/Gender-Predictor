{
 "cells": [
  {
   "cell_type": "markdown",
   "metadata": {},
   "source": [
    "Import necessary libraries"
   ]
  },
  {
   "cell_type": "code",
   "execution_count": 48,
   "metadata": {
    "ExecuteTime": {
     "end_time": "2018-06-04T08:58:36.190951Z",
     "start_time": "2018-06-04T08:58:36.071286Z"
    }
   },
   "outputs": [],
   "source": [
    "from sklearn.metrics import accuracy_score\n",
    "from sklearn.linear_model import LogisticRegression \n",
    "from sklearn.ensemble import RandomForestClassifier\n",
    "from sklearn.naive_bayes import GaussianNB\n",
    "from sklearn.neighbors import KNeighborsClassifier\n",
    "from sklearn.linear_model import Perceptron \n",
    "from sklearn import tree\n",
    "import numpy as np"
   ]
  },
  {
   "cell_type": "markdown",
   "metadata": {},
   "source": [
    "Small in-memory dataset is used as input here as demonstration purpose of different classifiers"
   ]
  },
  {
   "cell_type": "code",
   "execution_count": 49,
   "metadata": {
    "ExecuteTime": {
     "end_time": "2018-06-04T08:58:38.315855Z",
     "start_time": "2018-06-04T08:58:38.269426Z"
    }
   },
   "outputs": [],
   "source": [
    "\"\"\"\n",
    "Training data\n",
    "[height, weight, shoe_size]\n",
    "\"\"\"\n",
    "\n",
    "training_data_X = [\n",
    "    [\n",
    "        181, 80, 44\n",
    "    ],\n",
    "    [\n",
    "        177, 70, 43\n",
    "    ],\n",
    "    [\n",
    "        160, 60, 38\n",
    "    ],\n",
    "    [\n",
    "        154, 54, 37\n",
    "    ],\n",
    "    [\n",
    "        166, 65, 40\n",
    "    ],\n",
    "    [\n",
    "        190, 90, 47\n",
    "    ],\n",
    "    [\n",
    "        175, 64, 39\n",
    "    ],\n",
    "    [\n",
    "        177, 70, 40\n",
    "    ],\n",
    "    [\n",
    "        159, 55, 37\n",
    "    ],\n",
    "    [\n",
    "        171, 75, 42\n",
    "    ],\n",
    "    [\n",
    "        181, 85, 43\n",
    "    ]\n",
    "]\n",
    "\n",
    "training_data_Y = ['male', 'male', 'female', 'female', 'male', 'male', 'female', 'female', 'female', 'male', 'male']\n",
    "\n",
    "prediction_data = [[190, 70, 43]]\n"
   ]
  },
  {
   "cell_type": "code",
   "execution_count": 50,
   "metadata": {
    "ExecuteTime": {
     "end_time": "2018-06-04T08:58:40.060532Z",
     "start_time": "2018-06-04T08:58:39.909962Z"
    }
   },
   "outputs": [
    {
     "name": "stdout",
     "output_type": "stream",
     "text": [
      "Random Forest Prediction  :  ['male']\n",
      "Random Forest Accuracy    :  100.0\n"
     ]
    }
   ],
   "source": [
    "\"\"\"\n",
    "1. RandomForestClassifier : using only 1 trees\n",
    "\"\"\"\n",
    "#model creation \n",
    "rfc = RandomForestClassifier(n_estimators=10)\n",
    "\n",
    "#model training\n",
    "rfc = rfc.fit(training_data_X, training_data_Y)\n",
    "\n",
    "#check model with real input\n",
    "rfc_out = rfc.predict(prediction_data)\n",
    "\n",
    "#check model accuracy\n",
    "rfc_acc_out = rfc.predict(training_data_X)\n",
    "rfc_accuracy = accuracy_score(training_data_Y, rfc_acc_out) * 100\n",
    "\n",
    "\n",
    "print(\"Random Forest Prediction  : \",rfc_out)\n",
    "print(\"Random Forest Accuracy    : \",rfc_accuracy)\n"
   ]
  },
  {
   "cell_type": "code",
   "execution_count": 51,
   "metadata": {
    "ExecuteTime": {
     "end_time": "2018-06-04T08:58:41.310706Z",
     "start_time": "2018-06-04T08:58:41.276908Z"
    }
   },
   "outputs": [
    {
     "name": "stdout",
     "output_type": "stream",
     "text": [
      "GaussianNB Prediction :  ['male']\n",
      "GaussianNB Accuracy   :  81.81818181818183\n"
     ]
    }
   ],
   "source": [
    "\"\"\"\n",
    "2. GaussianNB\n",
    "\"\"\"\n",
    "#model creation\n",
    "gnb = GaussianNB()\n",
    "\n",
    "#model training \n",
    "gnb = gnb.fit(training_data_X, training_data_Y)\n",
    "\n",
    "#check model with real input\n",
    "gnb_out = gnb.predict(prediction_data)\n",
    "\n",
    "#check model accuracy \n",
    "gnb_acc_out = gnb.predict(training_data_X)\n",
    "gnb_accuracy = accuracy_score(training_data_Y, gnb_acc_out) * 100\n",
    "\n",
    "\n",
    "print(\"GaussianNB Prediction : \",gnb_out)\n",
    "print(\"GaussianNB Accuracy   : \",gnb_accuracy)"
   ]
  },
  {
   "cell_type": "code",
   "execution_count": 52,
   "metadata": {
    "ExecuteTime": {
     "end_time": "2018-06-04T08:58:42.566256Z",
     "start_time": "2018-06-04T08:58:42.523089Z"
    }
   },
   "outputs": [
    {
     "name": "stdout",
     "output_type": "stream",
     "text": [
      "LogisticRegression Prediction :  ['female']\n",
      "LogisticRegression Accuracy :  100.0\n"
     ]
    }
   ],
   "source": [
    "\"\"\"\n",
    "3. LogisticRegression\n",
    "\"\"\"\n",
    "#model creation \n",
    "lr = LogisticRegression()\n",
    "\n",
    "#model training\n",
    "lr = lr.fit(training_data_X, training_data_Y)\n",
    "\n",
    "#check model with real input\n",
    "lr_out = lr.predict(prediction_data)\n",
    "\n",
    "#check model accuracy\n",
    "lr_acc_out = lr.predict(training_data_X)\n",
    "lr_accuracy = accuracy_score(training_data_Y, lr_acc_out) * 100\n",
    "\n",
    "print(\"LogisticRegression Prediction : \", lr_out)\n",
    "print(\"LogisticRegression Accuracy : \", lr_accuracy)"
   ]
  },
  {
   "cell_type": "code",
   "execution_count": 53,
   "metadata": {
    "ExecuteTime": {
     "end_time": "2018-06-04T08:58:43.892259Z",
     "start_time": "2018-06-04T08:58:43.861505Z"
    }
   },
   "outputs": [
    {
     "name": "stdout",
     "output_type": "stream",
     "text": [
      "Perceptron Prediction :  ['male']\n",
      "Perceptron Accuracy :  54.54545454545454\n"
     ]
    },
    {
     "name": "stderr",
     "output_type": "stream",
     "text": [
      "/home/dev/github/practice/python3/lib/python3.5/site-packages/sklearn/linear_model/stochastic_gradient.py:128: FutureWarning: max_iter and tol parameters have been added in <class 'sklearn.linear_model.perceptron.Perceptron'> in 0.19. If both are left unset, they default to max_iter=5 and tol=None. If tol is not None, max_iter defaults to max_iter=1000. From 0.21, default max_iter will be 1000, and default tol will be 1e-3.\n",
      "  \"and default tol will be 1e-3.\" % type(self), FutureWarning)\n"
     ]
    }
   ],
   "source": [
    "\"\"\"\n",
    "4. Preceptron\n",
    "\"\"\"\n",
    "#model creation \n",
    "prtn = Perceptron()\n",
    "\n",
    "#model training\n",
    "prtn = prtn.fit(training_data_X, training_data_Y)\n",
    "\n",
    "#check model with real input\n",
    "prtn_out = prtn.predict(prediction_data)\n",
    "\n",
    "#check model accuracy \n",
    "prtn_acc_out = prtn.predict(training_data_X)\n",
    "prtn_accuracy = accuracy_score(training_data_Y, prtn_acc_out) * 100\n",
    "\n",
    "print(\"Perceptron Prediction : \", prtn_out)\n",
    "print(\"Perceptron Accuracy : \", prtn_accuracy)"
   ]
  },
  {
   "cell_type": "code",
   "execution_count": 54,
   "metadata": {
    "ExecuteTime": {
     "end_time": "2018-06-04T08:58:45.195491Z",
     "start_time": "2018-06-04T08:58:45.150925Z"
    },
    "scrolled": false
   },
   "outputs": [
    {
     "name": "stdout",
     "output_type": "stream",
     "text": [
      "KNeighborsClassifier Prediction :  ['male']\n",
      "KNeighborsClassifier Accuracy   :  72.72727272727273\n"
     ]
    }
   ],
   "source": [
    "\"\"\"\n",
    "5. KNeighborsClassifier\n",
    "\"\"\"\n",
    "#model creation \n",
    "knn = KNeighborsClassifier()\n",
    "\n",
    "#model training \n",
    "knn = knn.fit(training_data_X, training_data_Y)\n",
    "\n",
    "#check model with real input\n",
    "knn_out = knn.predict(prediction_data)\n",
    "\n",
    "#check model accuracy\n",
    "knn_acc_out = knn.predict(training_data_X)\n",
    "knn_accuracy = accuracy_score(training_data_Y, knn_acc_out) * 100\n",
    "\n",
    "print(\"KNeighborsClassifier Prediction : \", knn_out)\n",
    "print(\"KNeighborsClassifier Accuracy   : \", knn_accuracy)\n"
   ]
  },
  {
   "cell_type": "code",
   "execution_count": 55,
   "metadata": {
    "ExecuteTime": {
     "end_time": "2018-06-04T08:58:49.598424Z",
     "start_time": "2018-06-04T08:58:49.570640Z"
    }
   },
   "outputs": [
    {
     "name": "stdout",
     "output_type": "stream",
     "text": [
      "DecisionTreeClassifier Prediction :  ['male']\n",
      "DecisionTreeClassifier Accuracy   :  100.0\n"
     ]
    }
   ],
   "source": [
    "\"\"\"\n",
    "6. Descission tree classifier\n",
    "\"\"\"\n",
    "#model creation\n",
    "dtc = tree.DecisionTreeClassifier()\n",
    "\n",
    "#model training\n",
    "dtf = dtc.fit(training_data_X, training_data_Y)\n",
    "\n",
    "#check model with real input\n",
    "dtc_out = dtc.predict(prediction_data)\n",
    "\n",
    "#check model accuracy \n",
    "dtc_acc_out = dtc.predict(training_data_X)\n",
    "dtc_accuracy = accuracy_score(training_data_Y, dtc_acc_out) * 100\n",
    "\n",
    "print(\"DecisionTreeClassifier Prediction : \", dtc_out)\n",
    "print(\"DecisionTreeClassifier Accuracy   : \", dtc_accuracy)"
   ]
  },
  {
   "cell_type": "code",
   "execution_count": 57,
   "metadata": {
    "ExecuteTime": {
     "end_time": "2018-06-04T08:58:58.176295Z",
     "start_time": "2018-06-04T08:58:58.164330Z"
    }
   },
   "outputs": [
    {
     "name": "stdout",
     "output_type": "stream",
     "text": [
      "Best classifier for gender prediction :  Random forest\n"
     ]
    }
   ],
   "source": [
    "\"\"\"\n",
    "Choose the best classifier\n",
    "\"\"\"\n",
    "index = np.argmax([rfc_accuracy, gnb_accuracy, lr_accuracy, prtn_accuracy, knn_accuracy, dtc_accuracy])\n",
    "classifiers = {0:'Random forest', 1:'Naive base', 2:'Linear Regression', 3:'Perceptron', 4:'KNN', 5:'Decision tree'}\n",
    "\n",
    "print(\"Best classifier for gender prediction : \", classifiers[index])"
   ]
  },
  {
   "cell_type": "code",
   "execution_count": null,
   "metadata": {},
   "outputs": [],
   "source": []
  }
 ],
 "metadata": {
  "kernelspec": {
   "display_name": "Python 3",
   "language": "python",
   "name": "python3"
  },
  "language_info": {
   "codemirror_mode": {
    "name": "ipython",
    "version": 3
   },
   "file_extension": ".py",
   "mimetype": "text/x-python",
   "name": "python",
   "nbconvert_exporter": "python",
   "pygments_lexer": "ipython3",
   "version": "3.5.2"
  },
  "toc": {
   "base_numbering": 1,
   "nav_menu": {},
   "number_sections": true,
   "sideBar": true,
   "skip_h1_title": false,
   "title_cell": "Table of Contents",
   "title_sidebar": "Contents",
   "toc_cell": false,
   "toc_position": {},
   "toc_section_display": true,
   "toc_window_display": false
  }
 },
 "nbformat": 4,
 "nbformat_minor": 2
}
